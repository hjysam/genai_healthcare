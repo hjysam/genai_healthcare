{
 "cells": [
  {
   "cell_type": "code",
   "execution_count": 1,
   "metadata": {},
   "outputs": [],
   "source": [
    "from langchain_community.document_loaders import WebBaseLoader\n",
    "from langchain_text_splitters import RecursiveCharacterTextSplitter\n",
    "import os, openai\n",
    "from dotenv import load_dotenv, find_dotenv\n",
    "\n",
    "#Declaration \n",
    "\n",
    "_ = load_dotenv(find_dotenv()) # read local .env file\n",
    "openai.api_key  = os.environ['OPENAI_API_KEY']\n",
    "\n",
    "#Eeb extraction and clean the text using llm\n",
    "def web_extract_using_llm(url):\n",
    "    loader = WebBaseLoader(url)\n",
    "\n",
    "    data = loader.load()\n",
    "\n",
    "    splitter = RecursiveCharacterTextSplitter(\n",
    "        chunk_size=1000, chunk_overlap=50\n",
    "    )\n",
    "    splits = splitter.split_documents(data)\n",
    "\n",
    "    for split in splits:\n",
    "        client = openai.OpenAI()\n",
    "        response = client.chat.completions.create( # Change the method name\n",
    "        model = 'gpt-3.5-turbo',\n",
    "        messages = [{\"role\":\"system\", \"content\": \"you are a helpful intelligent assitant\"},\n",
    "                    {\"role\":\"user\", \"content\": \"Combine the heading and context into meaningful paragraphs:\\n\" + split.page_content}],\n",
    "        temperature = 0,  \n",
    "        )\n",
    "        print(response.choices[0].message.content)"
   ]
  },
  {
   "cell_type": "markdown",
   "metadata": {},
   "source": [
    "### URL 5: https://www.healthhub.sg/a-z/diseases-and-conditions/diabetes-treatment-capsules--tablets#5"
   ]
  },
  {
   "cell_type": "code",
   "execution_count": 2,
   "metadata": {},
   "outputs": [
    {
     "name": "stdout",
     "output_type": "stream",
     "text": [
      "Diabetes Medications\n",
      "\n",
      "Learn about the different diabetes treatment pills available, the guidelines when taking them and more. Treatment of Diabetes Mellitus: TabletsTreatment of type 2 diabetes begins with diet control. If diet alone is unable to control blood sugar levels, then tablets have to be taken. If both diet and tablets fail to control the blood sugar levels, insulin injections may be needed. Oral anti-diabetes tablets are used for treating type 2 diabetes.\n",
      "Type of Tablet: Sulphonylureas such as Chlorpropamide (Diabinese®), Glibenclamide (Daonil®), Gliclazide (Diamicron®), Tolbutamide (Rastinon®), and Glimepiride (Amaryl®) help the pancreas release more insulin and the body use glucose more effectively. It is important to take the tablet(s) daily immediately after meals, except for Gliclazide which is consumed half an hour before meals. Missing or delaying meals can lead to a dangerous drop in blood sugar levels.\n",
      "\n",
      "It is crucial to be aware that other tablets, such as those for blood pressure, may interact with anti-diabetes tablets. If there are any doubts or concerns about potential interactions, it is advisable to consult with a doctor or pharmacist for guidance and clarification.\n",
      "Alcohol interferes with some diabetes tablets, such as Chlorpropamide, causing side effects like redness and vomiting. It is important to consult your pharmacist if you are planning to drink alcohol while taking these medications. Different types of diabetes tablets, such as Biguanides like Metformin, help the body use glucose more effectively. It is recommended to take these tablets with meals or after meals. \n",
      "\n",
      "Other types of diabetes tablets, like a-glucosidase inhibitors such as Acarbose, help prevent a quick rise in blood glucose levels after a meal. These tablets should be taken with the first mouthful or immediately before each of the three main daily meals. Meglitinides, such as Repaglinide, assist the pancreas in releasing more insulin and should be taken before meals. Thiazolidinediones, like Rosiglitazone, enhance insulin action and help the body use glucose more effectively, and can be taken with or without food.\n",
      "\n",
      "It is important to inform your doctor if you are allergic to any medicines, pregnant or planning to become pregnant, breastfeeding, or taking any other medications. This information will help your healthcare provider ensure that your diabetes treatment plan is safe and effective for you.\n",
      "When taking your diabetes pill(s), it is important to follow some guidelines to ensure their effectiveness. Know the name and dosage of your diabetic tablet(s) and do not take more or less than what your doctor has prescribed. Take the tablet(s) at the correct times and do not make any changes to your medication routine without consulting your doctor. Even when you are sick, continue taking your tablet(s) but consult your doctor beforehand as the dosage may need to be adjusted. Following your meal plan is crucial as it helps the tablet(s) work better, and careless eating may reduce their effectiveness. If you miss a dose, take it as soon as possible unless it is almost time for your next dose. Do not double the next dose to make up for the missed one. Before taking any other medicines, including over-the-counter ones, check with your doctor or pharmacist.\n",
      "\n",
      "In addition to following these guidelines, it is important to be aware of the rare side effects of anti-diabetes tablets. If you experience any unusual symptoms or side effects, inform your doctor promptly. It is essential to communicate any other medical problems you may have to your healthcare provider to ensure the safe and effective management of your diabetes. By staying informed and proactive in your treatment, you can better manage your condition and maintain your overall health.\n",
      "If you are taking anti-diabetes tablets, it is important to inform your doctor if you experience any of the following symptoms: dark or coloured urine, tiredness, itchy skin or skin rash, loss of appetite, light-coloured stools, unexplained fever and sore throat, increased sensitivity to sunlight, diarrhoea, yellowing of eyes or skin, nausea or vomiting, or headache. It is crucial to communicate any changes in your health to your healthcare provider to ensure proper management of your condition.\n",
      "\n",
      "One common concern among patients is whether anti-diabetes tablets are addictive. It is a misconception that these medications can lead to addiction. Patients may worry about the long-term use of medication, but it is important to follow your doctor's recommendations for managing your diabetes. Open communication with your healthcare team can help address any concerns or questions you may have about your treatment plan.\n",
      "The right way to think about diabetes medications is this: the tablets are there to do a job. If you take tablets only three days of the week instead of every day as instructed, you can expect your blood sugar to be high on the four days that you do not take the tablets. Anti-diabetes tablets are meant to help keep you well. However, they won't work unless you take them.\n",
      "\n",
      "It is crucial to understand that consistency in taking your diabetes medication is key to managing your condition effectively. Skipping doses or not following the prescribed regimen can lead to fluctuations in blood sugar levels and potentially compromise your health. By adhering to your medication schedule as directed by your healthcare provider, you can better control your diabetes and reduce the risk of complications. Remember, these tablets are designed to support your well-being, but their effectiveness relies on your commitment to taking them regularly.\n",
      "Medications are an important aspect of healthcare, and finding the right ones can greatly improve a person's quality of life. Support groups can also play a crucial role in providing emotional and practical assistance to individuals dealing with various health conditions. Statistics on health can offer valuable insights into trends and patterns that can inform public health policies and interventions.\n",
      "\n",
      "The HealthHub website offers a comprehensive index that allows users to easily navigate through various topics related to healthcare. From costs and financing to diseases and conditions, medical and care facilities, medications, support groups, and statistics on health, the website provides a wealth of information to help individuals make informed decisions about their health.\n",
      "\n",
      "By continuing to use the HealthHub website, users consent to the use of cookies in accordance with the Privacy Policy and Terms of Use. The website also provides information about HealthHub, frequently asked questions, privacy policy, terms of use, contact details, and a sitemap. In partnership with the Ministry of Health Singapore, HealthHub aims to empower individuals to take charge of their health and well-being.\n"
     ]
    }
   ],
   "source": [
    "web_extract_using_llm(\"https://www.healthhub.sg/a-z/diseases-and-conditions/diabetes-treatment-capsules--tablets#5\")"
   ]
  },
  {
   "cell_type": "markdown",
   "metadata": {},
   "source": [
    "### URL6: https://www.healthhub.sg/a-z/diseases-and-conditions/diabetic_foot_ttsh"
   ]
  },
  {
   "cell_type": "code",
   "execution_count": 3,
   "metadata": {},
   "outputs": [
    {
     "name": "stdout",
     "output_type": "stream",
     "text": [
      "Diabetic Foot Care\n",
      "\n",
      "Can diabetes affect the feet?\n",
      "Diabetic foot complications are a common concern for individuals with poorly-controlled diabetes, often leading to nerve damage and circulation issues, particularly in the feet and legs. This can result in the development of diabetic foot ulcers, infections, and deformities. Early identification and intervention through diabetic foot screening are crucial in preventing complications and reducing the need for amputations. At polyclinics, a team of registered assistant nurses is specially trained to conduct diabetic foot screenings, identifying symptoms and providing education on proper foot care and blood sugar control. They can also refer at-risk patients to podiatrists for early intervention.\n",
      "\n",
      "To minimize the risk of diabetic foot complications, individuals should prioritize regular foot care. This includes proper hygiene, inspecting the feet daily for any abnormalities, wearing comfortable and well-fitting shoes, and maintaining good blood sugar control. By following these guidelines and seeking timely medical attention when needed, individuals can significantly reduce the likelihood of developing serious diabetic foot issues.\n",
      "Looking after your feet is crucial to maintaining your overall health and well-being. It is important to check your feet and toes daily for any signs of cuts, sores, corns, or blisters. If you have difficulty seeing the soles of your feet, use a mirror or ask for assistance. If you notice any changes in your feet, such as a change in color or appearance, it is essential to see your doctor immediately. Choosing comfortable, well-fitting shoes and always wearing socks or stockings can help protect your feet from injury. Before wearing shoes, make sure to check the inside for any sharp edges or objects that could cause discomfort.\n",
      "\n",
      "Proper foot hygiene is also essential. Wash your feet daily with water and mild soap, being careful not to soak them. Ensure the water is not too hot to prevent scalding. After washing, dry your feet thoroughly, paying special attention to the areas between your toes. To prevent dryness and cracks, apply moisturizing lotion to your feet, avoiding the areas between your toes. Additionally, it is important to protect your feet from extreme temperatures and keep the blood flowing by elevating your feet when sitting. By following these simple steps, you can maintain the health and well-being of your feet for years to come.\n",
      "When sitting, it is important to take care of your feet by putting them up and avoiding crossing your legs for extended periods. Wriggle your toes and flex your feet up and down to promote circulation. Additionally, it is advised to refrain from smoking, as it can have detrimental effects on your overall health. Remember to prioritize your well-being and not lose sleep over concerns related to diabetes.\n",
      "This article, last reviewed on Wednesday, November 22, 2023, was contributed by Tan Tock Seng Hospital. It covers various health topics related to the Health Promotion Board, Ministry of Health, and CHAS (Community Health Assist Scheme) in Singapore. The topics include information on Hand, Foot, and Mouth Disease, Depression, Chickenpox symptoms and treatment options, as well as details on MediSave and MediShield Life provided by the Ministry of Health. The article also offers insights into costs and financing, diseases and conditions, medical and care facilities, medications, support groups, and statistics on health, making it a comprehensive resource for individuals seeking information on various health-related issues.\n",
      "The HealthHub website offers a wide range of resources and information for individuals seeking information on healthcare. From costs and financing options to diseases and conditions, medical facilities, medications, and support groups, users can easily navigate through the A-Z directory to find relevant information. By continuing to use the website, users consent to the use of cookies in accordance with the Privacy Policy and Terms of Use. The HealthHub is a valuable resource provided in partnership with the Ministry of Health Singapore, offering comprehensive and up-to-date information on various health topics. Users can also find additional details about the website, including FAQs, privacy policy, terms of use, and contact information. Stay connected with HealthHub through their social media channels to stay informed about the latest updates and resources.\n"
     ]
    }
   ],
   "source": [
    "web_extract_using_llm(\"https://www.healthhub.sg/a-z/diseases-and-conditions/diabetic_foot_ttsh\")"
   ]
  },
  {
   "cell_type": "markdown",
   "metadata": {},
   "source": [
    "### URL7: https://www.healthhub.sg/a-z/diseases-and-conditions/diabetic-ulcer\""
   ]
  },
  {
   "cell_type": "code",
   "execution_count": 4,
   "metadata": {},
   "outputs": [
    {
     "name": "stdout",
     "output_type": "stream",
     "text": [
      "Diabetic foot ulcers are open sores or wounds that develop due to poor circulation or lack of sensation caused by nerve damage from elevated blood glucose levels. These ulcers commonly occur on the legs and feet, posing a higher risk for individuals with diabetes. The condition makes it difficult for the body to heal, leading to chronic wounds and an increased risk of infection. It is essential to understand the causes of diabetic ulcers and prioritize self-care, prevention, and appropriate treatment to manage this condition effectively.\n",
      "Significantly, nonhealing diabetic ulcers in Singapore result in a large number of amputations, with about two major limb amputations being carried out daily to remove lower limbs affected by diabetes-related ulcers or gangrene. This highlights the serious impact of these ulcers on individuals and the healthcare system, emphasizing the urgent need for effective prevention and treatment strategies to address this issue.\n",
      "Diabetic Ulcer Prevention\n",
      "To reduce the risk of wounds, regular foot care is important for those with diabetes. Take these steps to reduce foot injuries and wounds: Check your feet every day for red spots, cuts, swelling, or blisters. Use a mirror or get help to inspect the bottom of your feet. Wash your feet every day and dry them carefully, especially between the toes. Moisturize your feet daily, ideally after washing, to keep the skin soft and smooth. Massage a thin coat of lotion over the top and bottom of your feet, but not between the toes as the skin is thinner and more prone to splitting. File away hard skin patches on the sole of the feet or toes at least once a week to prevent foot ulcers from forming underneath. Keep toenails trimmed to prevent them from cutting into your toes. Cut toenails straight across and file the edges, never into the sides as this causes ingrown nails. Always wear shoes and socks, and never walk barefoot to prevent injuries.\n",
      "To maintain healthy feet, it is important to take preventive measures such as avoiding walking barefoot to prevent injuries. Ensuring that your shoes are comfortable and fit well is also crucial for foot health. Additionally, maintaining good blood circulation to the feet is essential. This can be achieved by putting your feet up when sitting, wiggling your toes, and moving your ankles for at least five minutes, two to three times a day. It is also advised not to cross your legs for long periods of time and to avoid smoking, as smoking can harm blood circulation and increase the risk of various diseases.\n",
      "Regular foot examinations are crucial for individuals with diabetes to prevent foot and leg ulcers and maintain good foot health. During these examinations, a podiatrist will assess for any loss of sensation, the level of blood flow to the feet, and changes in the foot's shape to identify potential pressure points. These evaluations aid in detecting early signs of foot conditions and allow for prompt preventive treatment or management to prevent the development or worsening of wounds.\n",
      "\n",
      "The article \"Sole Saviours,\" originally featured in ONEHealth Magazine, Issue 6, 2015, emphasizes the importance of foot care for diabetic individuals. It stresses the significance of routine foot examinations in preventing complications and ensuring overall foot health. For further information on diabetes management, readers are encouraged to explore topics such as diabetes medications, skin diseases in diabetes mellitus, and diabetes foot screening. This article was last reviewed on Wednesday, November 22, 2023, and was contributed by JurongHealth.\n",
      "The Health Promotion Board provides information on various health topics, including Hand, Foot, and Mouth Disease, depression, and Chickenpox symptoms and treatment options. The Ministry of Health oversees programs such as MediSave and MediShield Life to help individuals with healthcare financing. Additionally, the Community Health Assist Scheme (CHAS) in Singapore offers support for healthcare costs. Users can browse through categories such as Costs and Financing, Diseases and Conditions, Medical and Care Facilities, Medications, Support Groups, and Statistics on Health in the A-Z index for more information and resources.\n",
      "By continuing to use and navigate the HealthHub website, you consent to the use of cookies in accordance with our Privacy Policy and Terms of Use. The HealthHub website provides information and resources related to health and wellness, offering services such as FAQs, contact information, and a sitemap for easy navigation. This platform is a partnership with the Ministry of Health Singapore, aiming to promote and support public health initiatives. Users are encouraged to follow HealthHub on social media for updates and relevant health information. Copyright © Ministry of Health Singapore. All rights reserved.\n"
     ]
    }
   ],
   "source": [
    "web_extract_using_llm(\"https://www.healthhub.sg/a-z/diseases-and-conditions/diabetic-ulcer\")"
   ]
  },
  {
   "cell_type": "markdown",
   "metadata": {},
   "source": [
    "### URL8: https://www.healthhub.sg/a-z/diseases-and-conditions/diabetes-treatment-insulin"
   ]
  },
  {
   "cell_type": "code",
   "execution_count": 5,
   "metadata": {},
   "outputs": [
    {
     "name": "stdout",
     "output_type": "stream",
     "text": [
      "When you have diabetes, you may need to learn how to inject yourself with insulin. Insulin is a crucial component of diabetes treatment, and understanding how to administer it properly is essential for managing the condition effectively. Proper injection technique and dosage are key factors in ensuring that insulin therapy is successful in controlling blood sugar levels. It is important to work closely with your healthcare provider to develop a personalized insulin treatment plan that meets your specific needs and lifestyle. By following the guidance of your healthcare team and staying informed about diabetes management, you can take control of your health and well-being.\n",
      "Insulin is a hormone produced by the pancreas and released into our body cells to allow them to convert blood glucose (sugar) for energy. Food is converted into glucose before it is absorbed into our bloodstream. The function of insulin is to move the glucose from the bloodstream into the body cells for use or storage. People with diabetes are unable to fully use the glucose in their bloodstream either because they lack insulin in the body or insulin is ineffective for them. Treatment for type 1 diabetes involves dietary control and insulin injections. Some patients with type 2 diabetes may also require insulin injections. Insulin is not effective if taken by mouth, and has to be injected. To manage insulin therapy effectively, it is important to know how to measure your insulin dose, inject yourself (and not rely on others), and adapt your diet and activity to your insulin injections.\n",
      "There are several types of insulin that vary in their onset of action, peak activity, and duration of effectiveness. These differences determine how quickly they can lower blood glucose levels and how long their effects last. It is important to understand the characteristics of each type of insulin to effectively manage blood sugar levels.\n",
      "The type of action refers to the specific category or classification of the drug's effects. This could include categories such as analgesic, sedative, stimulant, or antihistamine. The time of start of action indicates how long it takes for the drug to begin producing noticeable effects after it has been administered. This can vary depending on factors such as the route of administration and the individual's metabolism. The time of maximum action refers to the point at which the drug's effects are at their peak intensity, providing the most significant therapeutic benefit or side effects. Understanding these parameters can help healthcare providers optimize treatment regimens and manage potential adverse reactions effectively.\n",
      "The duration of action of different types of insulin varies. Rapid-acting insulins like Lispro typically start working within 5 minutes and last for 2-4 hours. Short-acting insulins such as Humulin® R and Actrapid® HM have a half-hour onset and last for 6-8 hours. Intermediate-acting insulins like Humulin® N/NPH and Humulin® L/lente have a longer duration, lasting up to 24 hours. Long-acting insulins like Humulin® U have a duration of up to 24 hours.\n",
      "\n",
      "It is important to note that low blood sugar reactions are more likely to occur around the time of maximum insulin action, while high blood sugar reactions are more likely before the insulin starts acting or when its action is ending. Combination insulins, such as Humulin® 30/70 and Mixtard®, are mixtures of short and intermediate-acting insulins that are administered twice a day. This combination helps avoid the need for patients to manually mix their insulins and provides a more convenient dosing schedule for patients.\n",
      "The daily requirement is typically divided into two parts, with a portion given in the morning and the remainder in the evening. This division helps ensure that the necessary nutrients and energy are spread out throughout the day, providing a steady source of fuel for the body. By following this schedule, individuals can maintain a balanced and consistent intake of essential nutrients to support their overall health and well-being.\n",
      "Knowing where to inject your insulin will make the injection easier, safer, and more comfortable. Insulin is injected into the fatty area under the skin, where it moves into the blood and is used by your body. There are three main areas of injection: the abdomen, where insulin moves fastest into the blood; the arm; and the thigh and buttocks, where insulin moves slowest into the blood. The injection area is chosen based on the speed of insulin absorption required and your convenience. Your doctor or nurse will advise you on the best area to inject, as changing injection areas frequently can cause fluctuations in blood sugar levels due to insulin moving into the blood at different speeds from different areas.\n",
      "It is important to rotate your insulin injection spot each time to prevent the formation of thick areas under the skin, which can hinder proper absorption of the insulin. By using a different spot each time and only using each spot once a month, you can avoid these issues. Regularly checking your injection areas for any lumps, painful spots, or changes in color is also recommended, and any issues should be reported to your diabetes care team to address them promptly.\n",
      "\n",
      "Timing your insulin injections is crucial for optimal effectiveness. Injecting insulin 30 minutes before meals allows it to match the rise in blood sugar levels that occur after eating. It is important to eat regularly throughout the day to prevent low blood sugar levels caused by the injected insulin. By following these guidelines, you can ensure that your insulin therapy is effective and properly managed.\n",
      "If you are using a new insulin called Lispro Insulin (Humalog®), you do not have to wait 30 minutes before eating your meal as it is absorbed and goes to work almost immediately after injection. Insulin should be stored in the lower part of the fridge, away from the freezer, and it is important to keep at least one extra bottle of each type of insulin on hand. When travelling, it is recommended to carry your insulin and syringes with you and avoid putting the insulin in your check-in luggage or car boot.\n",
      "\n",
      "When it comes to insulin usage, it is crucial to discard the insulin if it has expired, if there is any contamination of clear (short-acting) insulin, or if there are any lumps in cloudy (intermediate-acting) insulin that will not dissolve when the bottle is rotated. Syringes are used to measure the amount of insulin to be injected, so it is important to choose a suitable syringe that best matches the number of units required.\n",
      "When administering insulin, it is important to use the correct syringe size based on the prescribed dose. A 0.3ml syringe is suitable for doses up to 30 units, while a 0.5ml syringe should be used for doses up to 50 units. For doses up to 100 units, a 1ml syringe is recommended. Disposable syringes can be reused for the same person up to about two to four times, with the syringe being stored in the fridge between uses and the cap replaced.\n",
      "\n",
      "Insulin pens offer a convenient alternative to traditional syringes and insulin bottles, as they combine the needle and insulin cartridge into one device. This makes insulin injections easier to administer and eliminates the need to carry multiple items when on the go.\n",
      "\n",
      "On the other hand, insulin pumps are small computerized devices that deliver insulin continuously through a tube inserted under the skin. While providing better control and meal flexibility, insulin pump users must monitor their blood sugar levels frequently to adjust the insulin delivery accordingly. However, insulin pumps are more expensive and require more frequent blood sugar monitoring compared to traditional injection methods.\n",
      "Switching to insulin from anti-diabetes tablets can be a cause for concern for some patients, as they may fear that their condition is worsening. However, this transition is often necessary when the diabetes is no longer effectively controlled by oral medications. The switch to insulin is made to better manage the patient's blood sugar levels and prevent further complications.\n",
      "\n",
      "It is important to be aware of potential side effects that may arise from taking insulin. These can include experiencing low blood sugar, initial weight gain, and the development of lumpy or scarred tissue from repeated injections in the same area. Additionally, some individuals may experience rashes at the injection site or, in rare cases, all over the body. Being informed about these possible side effects can help patients better manage their insulin therapy and address any concerns they may have.\n",
      "The Health Promotion Board provides information on various health topics, including Hand, Foot, and Mouth Disease, depression, and Chickenpox. The Ministry of Health oversees programs such as MediSave and MediShield Life to help individuals with healthcare financing. Additionally, the Community Health Assist Scheme (CHAS) in Singapore offers support for healthcare services. Users can browse through different categories such as Costs and Financing, Diseases and Conditions, Medical and Care Facilities, Medications, Support Groups, and Statistics on Health in the A-Z index.\n",
      "By continuing to use and navigate the HealthHub website, you consent to the use of cookies in accordance with our Privacy Policy and Terms of Use. The HealthHub website provides information and resources related to health and wellness, offering services such as FAQs, contact information, and a sitemap for easy navigation. In partnership with the Ministry of Health Singapore, HealthHub aims to promote and support public health initiatives. Copyright © Ministry of Health Singapore. All rights reserved. Follow us for updates and news on health-related topics.\n"
     ]
    }
   ],
   "source": [
    "web_extract_using_llm(\"https://www.healthhub.sg/a-z/diseases-and-conditions/diabetes-treatment-insulin\")"
   ]
  },
  {
   "cell_type": "markdown",
   "metadata": {},
   "source": [
    "### URL 9: https://www.healthxchange.sg/diabetes/living-well-diabetes/diabetes-recommended-vaccinations-children-adults"
   ]
  },
  {
   "cell_type": "code",
   "execution_count": 6,
   "metadata": {},
   "outputs": [
    {
     "name": "stdout",
     "output_type": "stream",
     "text": [
      "Diabetes: Recommended Vaccinations for Children and Adults - HealthXchange\n",
      "\n",
      "Vaccinations are crucial for both children and adults with diabetes to prevent serious complications. It is important to stay up to date with recommended vaccines to protect against various diseases. Children and adults with diabetes should consult with their healthcare providers to ensure they are receiving all necessary vaccinations to maintain their health and well-being.\n",
      "Events, Media, News, and Video are the main sections of the website. Under the Events section, users can find information about upcoming events and activities. The Media section is where users can access various forms of media content, such as articles, videos, and podcasts. In the News section, users can stay updated on the latest news and developments. The Video section is dedicated to providing video content for users to watch and engage with. The website also offers different health sections for Men, Women, Children, Seniors, Diabetes, Cancer, Asthma, and Blood Pressure, catering to a wide range of health-related topics and information.\n",
      "In the realm of healthcare, various aspects of our well-being are interconnected, from cholesterol levels to the risk of stroke, and from the functioning of the heart and lungs to the complexities of the digestive system. Our bones and joints support us in our daily activities, while hormones and thyroid function play a crucial role in regulating our bodily processes. Food and nutrition are essential for maintaining overall wellness, complemented by fitness and exercise to keep our bodies strong and agile.\n",
      "\n",
      "In times of medical emergencies, understanding medicine and first aid can be life-saving, especially when it comes to issues concerning the head and neck. Additionally, healthcare financing plays a significant role in ensuring access to necessary treatments and procedures, including the option of transplants for those in need. By exploring the A-Z of health topics, we can empower ourselves with knowledge to make informed decisions about our well-being and navigate the complexities of the healthcare system effectively.\n",
      "A-Z Health offers a range of services and information on health-related topics, including promotions, events, and media content such as news and videos. One important focus area is diabetes, with a recent article highlighting the recommended vaccinations for both children and adults with diabetes. Dr. Bee Yong Mong, Head of the SingHealth Duke-NUS Diabetes Centre and Senior Consultant at Singapore General Hospital, shares insights on three key vaccinations that are particularly important for individuals living with diabetes. This information can help individuals with diabetes take proactive steps to protect their health and well-being.\n",
      "Children and adults with diabetes are recommended to get routine vaccinations. This includes vaccines for diseases such as measles, mumps, and rubella. It is important for individuals with diabetes to stay up to date on their vaccinations to protect their overall health and well-being. Additionally, maintaining good communication with healthcare providers and following their recommendations for vaccinations can help prevent serious complications related to diabetes.\n",
      "Routine vaccinations are recommended for children and adults living with diabetes, including the influenza, pneumococcal, and hepatitis B vaccinations. For the influenza vaccination, it is advised for individuals with diabetes aged ≥ 6 months to receive an annual vaccination due to immunity declining after a year. The influenza vaccine is administered as a single intramuscular injection and protects against the main strains of influenza circulating during the flu season. \n",
      "\n",
      "Similarly, the pneumococcal vaccination is given as a single intramuscular injection and there are two types available: Pneumovax 23 (PPV23) and Prevenar 13 (PCV13). These vaccines offer protection against various strains of pneumococcus that commonly cause disease. When both vaccines are recommended, Prevenar 13 (PCV13) is typically preferred for individuals with diabetes.\n",
      "Vaccines are recommended for optimal immunity, with the preferred sequence being the administration of Prevenar 13 (PCV13) followed by Pneumovax 23 (PPV23) at least a year later. This approach is designed to enhance the effectiveness of the vaccines and ensure the strongest immunity possible. According to experts, following this specific order of vaccination helps to maximize the protective benefits of the vaccines and support overall health and well-being.\n",
      "Dr. Bee Yong Mong is the Head of the SingHealth Duke-NUS Diabetes Centre and a Senior Consultant in the Department of Endocrinology at Singapore General Hospital (SGH). As a prominent member of the healthcare community, Dr. Bee Yong Mong plays a crucial role in leading the diabetes center and providing expert consultation in the field of endocrinology at SGH. His expertise and leadership contribute significantly to the advancement of diabetes care and research in Singapore.\n",
      "Pneumococcal Vaccination Recommendations for SingHealth Group\n",
      "\n",
      "It is important to always inform your doctor about your previous vaccination history so they can decide on the best vaccination schedule for you. For children with diabetes, Prevenar 13 (PCV13) is recommended for infants younger than 2 years old as a series of 4 doses, starting at 2 months of age. Pneumovax 23 (PPV23) is not effective in infants younger than 2 years old and is not recommended. Children with diabetes aged between 2 to 5 years who have not previously received PCV13 should receive 1 or 2 doses of PCV13. Additionally, children with diabetes aged 2 years and older should also receive PPV23.\n",
      "\n",
      "For adults with diabetes, Pneumovax 23 (PPV23) is recommended for those aged under 65 years. Adults aged 65 years and older should receive both Prevenar 13 (PCV13) and PPV23. Even if adults have been previously vaccinated against pneumococcus before the age of 65, they should still receive PCV13 and a booster PPV23 vaccination after turning 65. It is crucial to follow these vaccination recommendations to protect against pneumococcal infections effectively.\n",
      "The hepatitis B vaccine is given as 3 intramuscular injections over a period of 6 months (at 0, 1 and 6 months). It is recommended for all children and adolescents with diabetes, as well as for adults with diabetes who are younger than 60 years old. Hepatitis B vaccination may also be considered in adults above the age of 60, after discussion with a doctor. Before receiving the vaccine, it is important to consider certain precautions. If you have had serious reactions to a previous dose of the vaccine, certain antibiotics, or have allergies to eggs or yeast, you may need to take precautions or may not be able to receive the vaccine. Additionally, individuals with conditions that predispose to bleeding or ongoing illnesses may need to postpone vaccination. It is important to discuss these conditions with your doctor when considering suitable vaccinations.\n",
      "All vaccination recommendations are based on recommendations from the Centers for Disease Control and Prevention, Advisory Committee on Immunization Practices, and American Diabetes Association. It is important to follow these guidelines to ensure the best protection against preventable diseases. For specific information on recommended vaccinations for individuals with diabetes, refer to the previous page for detailed information. It is crucial to stay up to date on vaccinations to maintain optimal health and protect against potential health risks.\n",
      "Influenza, pneumococcal disease, and hepatitis B are all infectious diseases that can have a significant impact on individuals with diabetes. People with diabetes are at a higher risk of developing complications from these infections due to their compromised immune system and impaired ability to fight off illnesses. Influenza, commonly known as the flu, can lead to serious complications in individuals with diabetes, such as pneumonia and worsening of blood sugar control. Pneumococcal disease, caused by the bacteria Streptococcus pneumoniae, can result in pneumonia, meningitis, and bloodstream infections, posing a greater threat to those with diabetes. Hepatitis B, a viral infection that affects the liver, can also have more severe consequences for individuals with diabetes, potentially leading to liver damage and other complications. It is crucial for people with diabetes to take preventive measures, such as getting vaccinated and practicing good hygiene, to reduce their risk of contracting these infections and experiencing serious health issues.\n",
      "Dr. Bee Yong Mong, Head of the SingHealth Duke-NUS Diabetes Centre and Senior Consultant, provides expertise from the Department of Endocrinology. All information within this web and mobile application is intended for general information only, with the understanding that no surgical or medical advice is being rendered. It is important not to disregard the professional advice of your physician. Sharing is caring! Sign up today to stay informed.\n",
      "Sign up today for the Essential Guide to Diabetes, which includes tips for insulin injection site rotation and how to draw insulin. Learn how to prevent and live well with diabetes. Stay informed with trending topics such as menopause, oral health, healthy aging, eye care, and high cholesterol prevention. Additionally, discover helpful resources like managing diabetes during Chinese New Year, staying flu safe during COVID-19, and FAQs about diabetes diet. Share this valuable information with your friends and family to promote health and well-being.\n",
      "Total Shares\n",
      "\n",
      "Sign up today! You May Also Like 7 Tips to Manage Diabetes During CNY, Living Well with Diabetes. Stay Flu Safe During COVID-19, Support Groups. Prevent & Manage Diabetes - Doctor Q&A, Diabetes Prevention. Travel Health Questions to Ask (Besides COVID Requirements), Medicine. FAQs About Diabetes Diet, Living Well with Diabetes. Did You Know?\n",
      "\n",
      "Tags: Tips, How to prevent, Living Well with Diabetes. Our Contributors: Singapore General Hospital, Changi General Hospital, Sengkang General Hospital, KK Women's and Children's Hospital, National Cancer Centre Singapore, National Dental Centre Singapore, National Heart Centre Singapore, National Neuroscience Institute, Singapore National Eye Centre, SingHealth Community Hospitals, SingHealth Polyclinics.\n",
      "In the realm of healthcare, individuals of all ages and genders face a variety of health concerns. From children to seniors, the spectrum of health issues spans from diabetes to cancer, asthma to high blood pressure, and cholesterol to stroke. It is essential for everyone to have access to medicine and first aid, as well as specialized care for specific areas such as the head and neck, heart and lungs, digestive system, bones and joints, hormones and thyroid. Additionally, maintaining a focus on food and nutrition, fitness and exercise, and overall wellness is crucial for promoting a healthy lifestyle across all demographics.\n",
      "Wellness is a crucial aspect of overall health and involves taking care of one's physical, mental, and emotional well-being. It encompasses various practices and habits that promote a healthy lifestyle, such as regular exercise, balanced nutrition, adequate sleep, and stress management. Prioritizing wellness can lead to improved quality of life and reduced risk of chronic diseases.\n",
      "\n",
      "Healthcare financing plays a significant role in ensuring individuals have access to necessary medical services and treatments. It involves the management of financial resources to cover healthcare expenses, including insurance coverage, government subsidies, and out-of-pocket payments. Understanding healthcare financing options is essential for individuals to make informed decisions about their healthcare needs and expenses.\n",
      "\n",
      "Transplant procedures are life-saving treatments for individuals with organ failure or certain medical conditions. Organ transplants involve surgically replacing a failing organ with a healthy one from a donor. These procedures require specialized medical expertise, advanced technology, and comprehensive post-operative care to ensure successful outcomes. Transplant recipients often experience improved quality of life and extended survival rates following a successful transplant surgery.\n",
      "SingHealth 2016 holds the copyright for all content on this website. It is important to note that any unauthorized use or reproduction of the material is strictly prohibited. In the event of a vulnerability being identified on the website, users are encouraged to report it promptly for resolution. SingHealth values the security and privacy of its users and is committed to addressing any vulnerabilities to ensure a safe online environment for all visitors.\n"
     ]
    }
   ],
   "source": [
    "web_extract_using_llm(\"https://www.healthxchange.sg/diabetes/living-well-diabetes/diabetes-recommended-vaccinations-children-adults\")"
   ]
  },
  {
   "cell_type": "code",
   "execution_count": 50,
   "metadata": {},
   "outputs": [],
   "source": [
    "from langchain_community.document_loaders import PyPDFLoader\n",
    "from langchain.docstore.document import Document\n",
    "import csv\n",
    "\n",
    "\n",
    "def ppt_pdf_extract_llm(pdf_file, csv_file):\n",
    "    loader = PyPDFLoader(pdf_file, extract_images=True)\n",
    "    pages = loader.load()\n",
    "\n",
    "    for i in range(len(pages)):\n",
    "        client = openai.OpenAI()\n",
    "        response = client.chat.completions.create( # Change the method name\n",
    "        model = 'gpt-3.5-turbo',\n",
    "        messages = [\n",
    "            {\"role\": \"system\", \"content\": \"You are a helpful and intelligent assistant who is good at guessing missing words.\"},\n",
    "            {\"role\": \"user\", \"content\": \"Construct the string into meaningful sentences and remove content unrelated to the topic of diabetes:\\n\" + pages[i].page_content}\n",
    "        ],\n",
    "        temperature = 0, \n",
    "        )\n",
    "        pages[i].page_content = response.choices[0].message.content\n",
    "\n",
    "    # Specify the CSV file path\n",
    "  \n",
    "    # Writing to the CSV file\n",
    "    with open(csv_file, 'w', newline='',encoding='utf-8-sig') as file:\n",
    "        writer = csv.writer(file)\n",
    "        # Writing multiple rows\n",
    "\n",
    "        for i in range(len(pages)): \n",
    "            writer.writerow([pages[i].page_content, pages[i].metadata['source'], pages[i].metadata['page']])\n",
    "\n",
    "\n"
   ]
  },
  {
   "cell_type": "code",
   "execution_count": 51,
   "metadata": {},
   "outputs": [],
   "source": [
    "ppt_pdf_extract_llm('10.DiabetesHub-NDRM2023-En-01-BeAware.pdf','url10.csv')"
   ]
  },
  {
   "cell_type": "code",
   "execution_count": 52,
   "metadata": {},
   "outputs": [],
   "source": [
    "ppt_pdf_extract_llm('11.DiabetesHub-NDRM2023-En-02-BeHealthy.pdf','url11.csv')"
   ]
  },
  {
   "cell_type": "code",
   "execution_count": 53,
   "metadata": {},
   "outputs": [],
   "source": [
    "ppt_pdf_extract_llm('12.4 Be Proactive (updated 22Jan2024).pdf','url12.csv')"
   ]
  },
  {
   "cell_type": "code",
   "execution_count": 54,
   "metadata": {},
   "outputs": [],
   "source": [
    "ppt_pdf_extract_llm('13.DiabetesHub-NDRM2023-En-04-Support.pdf','url13.csv')"
   ]
  }
 ],
 "metadata": {
  "kernelspec": {
   "display_name": "openai",
   "language": "python",
   "name": "python3"
  },
  "language_info": {
   "codemirror_mode": {
    "name": "ipython",
    "version": 3
   },
   "file_extension": ".py",
   "mimetype": "text/x-python",
   "name": "python",
   "nbconvert_exporter": "python",
   "pygments_lexer": "ipython3",
   "version": "3.10.13"
  }
 },
 "nbformat": 4,
 "nbformat_minor": 2
}
